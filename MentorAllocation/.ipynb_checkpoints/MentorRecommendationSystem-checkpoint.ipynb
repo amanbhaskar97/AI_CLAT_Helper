{
 "cells": [
  {
   "cell_type": "code",
   "execution_count": 1,
   "id": "399d34f1-f955-4e42-b6c4-41dab55eaf96",
   "metadata": {},
   "outputs": [
    {
     "name": "stdin",
     "output_type": "stream",
     "text": [
      "Preferred Subjects (comma-separated):  GK, English\n",
      "Target College:  Delhi\n",
      "Preparation Level (Beginner / Intermediate / Advanced):  Intermediate\n",
      "Learning Style (Visual / Auditory / Kinesthetic):  Visual\n"
     ]
    },
    {
     "name": "stdout",
     "output_type": "stream",
     "text": [
      "\n",
      "🎯 Top 3 Recommended Mentors:\n",
      "- Pooja (NLU Delhi) | Subjects: English, GK | Style: Kinesthetic\n",
      "- Rohit (NLU Delhi) | Subjects: GK, English | Style: Visual\n",
      "- Isha (NLU Delhi) | Subjects: Constitution, English | Style: Visual\n"
     ]
    },
    {
     "name": "stdin",
     "output_type": "stream",
     "text": [
      "\n",
      "We'd love your thoughts! How helpful were the recommendations?  Good Re comendation\n"
     ]
    },
    {
     "name": "stdout",
     "output_type": "stream",
     "text": [
      "✅ Feedback saved.\n"
     ]
    }
   ],
   "source": [
    "import pandas as pd\n",
    "from sklearn.feature_extraction.text import TfidfVectorizer\n",
    "from sklearn.metrics.pairwise import cosine_similarity\n",
    "\n",
    "# Load mentor data from Excel\n",
    "mentors_df = pd.read_excel(\"MentorInfo.xlsx\")\n",
    "\n",
    "# ---- Aspirant Input ----\n",
    "preferred_subjects = input(\"Preferred Subjects (comma-separated): \")\n",
    "target_college = input(\"Target College: \")\n",
    "prep_level = input(\"Preparation Level (Beginner / Intermediate / Advanced): \")\n",
    "learning_style = input(\"Learning Style (Visual / Auditory / Kinesthetic): \")\n",
    "\n",
    "# Combine aspirant input into a single string\n",
    "aspirant_text = f\"{preferred_subjects} {target_college} {prep_level} {learning_style}\"\n",
    "\n",
    "# Combine mentor features into single text fields\n",
    "mentors_df[\"combined_features\"] = mentors_df.apply(\n",
    "    lambda row: f\"{row['expertise_subjects']} {row['college']} {row['experience_level']} {row['mentoring_style']}\",\n",
    "    axis=1\n",
    ")\n",
    "\n",
    "# ---- TF-IDF Vectorization ----\n",
    "tfidf = TfidfVectorizer()\n",
    "mentor_vectors = tfidf.fit_transform(mentors_df[\"combined_features\"])\n",
    "aspirant_vector = tfidf.transform([aspirant_text])\n",
    "\n",
    "# ---- Cosine Similarity ----\n",
    "similarity_scores = cosine_similarity(aspirant_vector, mentor_vectors).flatten()\n",
    "mentors_df[\"similarity_score\"] = similarity_scores\n",
    "\n",
    "# ---- Top 3 Recommendations ----\n",
    "top_mentors = mentors_df.sort_values(by=\"similarity_score\", ascending=False).head(3)\n",
    "print(\"\\n🎯 Top 3 Recommended Mentors:\")\n",
    "for idx, row in top_mentors.iterrows():\n",
    "    print(f\"- {row['name']} ({row['college']}) | Subjects: {row['expertise_subjects']} | \"\n",
    "          f\"Style: {row['mentoring_style']}\")\n",
    "\n",
    "# ---- Optional Feedback ----\n",
    "feedback = input(\"\\nWe'd love your thoughts! How helpful were the recommendations? \")\n",
    "\n",
    "# Save feedback to Excel\n",
    "feedback_data = pd.DataFrame([{\n",
    "    \"preferred_subjects\": preferred_subjects,\n",
    "    \"target_college\": target_college,\n",
    "    \"prep_level\": prep_level,\n",
    "    \"learning_style\": learning_style,\n",
    "    \"recommended_mentors\": \", \".join(top_mentors[\"name\"].tolist()),\n",
    "    \"feedback\": feedback\n",
    "}])\n",
    "\n",
    "try:\n",
    "    existing = pd.read_excel(\"Feedback.xlsx\")\n",
    "    updated = pd.concat([existing, feedback_data], ignore_index=True)\n",
    "except FileNotFoundError:\n",
    "    updated = feedback_data\n",
    "\n",
    "updated.to_excel(\"Feedback.xlsx\", index=False)\n",
    "print(\"✅ Feedback saved.\")\n"
   ]
  },
  {
   "cell_type": "code",
   "execution_count": null,
   "id": "b5c1f53e-2c4a-4743-baaa-5144f93802be",
   "metadata": {},
   "outputs": [],
   "source": []
  }
 ],
 "metadata": {
  "kernelspec": {
   "display_name": "Python [conda env:base] *",
   "language": "python",
   "name": "conda-base-py"
  },
  "language_info": {
   "codemirror_mode": {
    "name": "ipython",
    "version": 3
   },
   "file_extension": ".py",
   "mimetype": "text/x-python",
   "name": "python",
   "nbconvert_exporter": "python",
   "pygments_lexer": "ipython3",
   "version": "3.12.3"
  }
 },
 "nbformat": 4,
 "nbformat_minor": 5
}
